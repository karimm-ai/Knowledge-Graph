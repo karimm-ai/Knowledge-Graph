{
 "cells": [
  {
   "cell_type": "code",
   "execution_count": 1,
   "id": "a5a1e487",
   "metadata": {},
   "outputs": [],
   "source": [
    "from falkordb import FalkorDB\n",
    "import json\n",
    "from sys_query import QuerySystem\n",
    "import string"
   ]
  },
  {
   "cell_type": "code",
   "execution_count": 2,
   "id": "19689509",
   "metadata": {},
   "outputs": [],
   "source": [
    "myfalkor = QuerySystem(\"127.0.0.1\", 6379)"
   ]
  },
  {
   "cell_type": "code",
   "execution_count": 4,
   "id": "13f64b24",
   "metadata": {},
   "outputs": [
    {
     "data": {
      "text/plain": [
       "True"
      ]
     },
     "execution_count": 4,
     "metadata": {},
     "output_type": "execute_result"
    }
   ],
   "source": [
    "myfalkor.db.flushdb()"
   ]
  },
  {
   "cell_type": "code",
   "execution_count": 5,
   "id": "a5d67c9f",
   "metadata": {},
   "outputs": [
    {
     "data": {
      "text/plain": [
       "[]"
      ]
     },
     "execution_count": 5,
     "metadata": {},
     "output_type": "execute_result"
    }
   ],
   "source": [
    "myfalkor.db.list_graphs()"
   ]
  },
  {
   "cell_type": "code",
   "execution_count": 6,
   "id": "4a2ab9fe",
   "metadata": {},
   "outputs": [],
   "source": [
    "myfalkor.create_schema('new_schema', \"schema.json\")"
   ]
  },
  {
   "cell_type": "code",
   "execution_count": 7,
   "id": "5f373b5e",
   "metadata": {},
   "outputs": [
    {
     "name": "stdout",
     "output_type": "stream",
     "text": [
      "(:University{founded_year:\"integer\",location:\"string\",name:\"string\",ranking:\"integer\",type:\"string\"})\n",
      "(:Department{budget:\"float\",building:\"string\",dept_name:\"string\",head:\"string\",student_count:\"integer\"})\n",
      "(:Professor{email:\"string\",name:\"string\",office:\"string\",research_area:\"string\",tenure:\"boolean\",title:\"string\"})\n",
      "(:Student{gpa:\"float\",major:\"string\",name:\"string\",status:\"string\",student_id:\"string\",year:\"integer\"})\n",
      "(:Course{capacity:\"integer\",code:\"string\",credits:\"integer\",level:\"string\",name:\"string\",semester:\"string\"})\n",
      "(:Building{address:\"string\",capacity:\"integer\",floors:\"integer\",name:\"string\",type:\"string\"})\n",
      "(:Research{duration:\"integer\",field:\"string\",funding:\"float\",status:\"string\",title:\"string\"})\n",
      "(:Publication{citations:\"integer\",journal:\"string\",title:\"string\",type:\"string\",year:\"integer\"})\n",
      "(:Degree{duration:\"integer\",level:\"string\",name:\"string\",requirements:\"string\"})\n",
      "(:Semester{end_date:\"string\",name:\"string\",start_date:\"string\",year:\"integer\"})\n"
     ]
    }
   ],
   "source": [
    "res = myfalkor.schema.g.query(\"MATCH (n) RETURN DISTINCT (n) AS nodes\")\n",
    "for element in res.result_set:\n",
    "    print(element[0])"
   ]
  },
  {
   "cell_type": "code",
   "execution_count": 8,
   "id": "5d3f885b",
   "metadata": {},
   "outputs": [
    {
     "name": "stdout",
     "output_type": "stream",
     "text": [
      "MATCH (n:Student)\n",
      "RETURN n\n",
      "Found 1 Nodes!\n",
      "(:Student{gpa:\"float\",major:\"string\",name:\"string\",status:\"string\",student_id:\"string\",year:\"integer\"})\n"
     ]
    }
   ],
   "source": [
    "myfalkor.schema.find_node(\"Student\")"
   ]
  },
  {
   "cell_type": "code",
   "execution_count": 9,
   "id": "0b2f3869",
   "metadata": {},
   "outputs": [
    {
     "name": "stdout",
     "output_type": "stream",
     "text": [
      "MATCH (n:BusinessMen)\n",
      "RETURN n\n",
      "No Nodes Found!\n"
     ]
    }
   ],
   "source": [
    " myfalkor.schema.find_node(\"BusinessMen\")"
   ]
  },
  {
   "cell_type": "code",
   "execution_count": 11,
   "id": "97b4a9bc",
   "metadata": {},
   "outputs": [
    {
     "name": "stdout",
     "output_type": "stream",
     "text": [
      "MATCH (n:BusinessMen)\n",
      "WHERE n.name='string' \n",
      "RETURN n\n",
      "No Nodes Found!\n",
      "name: 'string'\n",
      "CREATE (n:BusinessMen \n",
      "         {name: 'string'})\n",
      "1.0\n"
     ]
    }
   ],
   "source": [
    " myfalkor.schema.find_node(\"BusinessMen\", {'name': 'string'}, make_exist=True)"
   ]
  },
  {
   "cell_type": "code",
   "execution_count": 14,
   "id": "ffc9b7e2",
   "metadata": {},
   "outputs": [
    {
     "name": "stdout",
     "output_type": "stream",
     "text": [
      "(:University{founded_year:\"integer\",location:\"string\",name:\"string\",ranking:\"integer\",type:\"string\"})\n",
      "(:Department{budget:\"float\",building:\"string\",dept_name:\"string\",head:\"string\",student_count:\"integer\"})\n",
      "(:Professor{email:\"string\",name:\"string\",office:\"string\",research_area:\"string\",tenure:\"boolean\",title:\"string\"})\n",
      "(:Student{gpa:\"float\",major:\"string\",name:\"string\",status:\"string\",student_id:\"string\",year:\"integer\"})\n",
      "(:Course{capacity:\"integer\",code:\"string\",credits:\"integer\",level:\"string\",name:\"string\",semester:\"string\"})\n",
      "(:Building{address:\"string\",capacity:\"integer\",floors:\"integer\",name:\"string\",type:\"string\"})\n",
      "(:Research{duration:\"integer\",field:\"string\",funding:\"float\",status:\"string\",title:\"string\"})\n",
      "(:Publication{citations:\"integer\",journal:\"string\",title:\"string\",type:\"string\",year:\"integer\"})\n",
      "(:Degree{duration:\"integer\",level:\"string\",name:\"string\",requirements:\"string\"})\n",
      "(:Semester{end_date:\"string\",name:\"string\",start_date:\"string\",year:\"integer\"})\n",
      "(:BusinessMen{id:\"integer\",name:\"string\",wealth:\"double\"})\n"
     ]
    }
   ],
   "source": [
    "res = myfalkor.schema.g.query(\"MATCH (n) RETURN DISTINCT (n) AS nodes\")\n",
    "for element in res.result_set:\n",
    "    print(element[0])"
   ]
  },
  {
   "cell_type": "code",
   "execution_count": null,
   "id": "41669262",
   "metadata": {},
   "outputs": [
    {
     "name": "stdout",
     "output_type": "stream",
     "text": [
      "MATCH (n:BusinessMen)\n",
      "            \n",
      "SET n.id='integer' , n.wealth='double' \n",
      "Node Successfully updated!\n"
     ]
    }
   ],
   "source": [
    "myfalkor.schema.update_node(\"BusinessMen\", {'id': \"integer\", 'wealth': 'double'})"
   ]
  },
  {
   "cell_type": "code",
   "execution_count": 15,
   "id": "a76fe295",
   "metadata": {},
   "outputs": [],
   "source": [
    "myfalkor.schema.add_relationship('BusinessMen', 'OWN', 'University')"
   ]
  },
  {
   "cell_type": "code",
   "execution_count": 16,
   "id": "4ca1bad0",
   "metadata": {},
   "outputs": [
    {
     "name": "stdout",
     "output_type": "stream",
     "text": [
      "[[<falkordb.edge.Edge object at 0x000001EA66E7BA90>]]\n",
      "()-[:OWN]->()\n"
     ]
    }
   ],
   "source": [
    "res =myfalkor.schema.g.query(\"MATCH (from:BusinessMen)-[r]->(to:University) RETURN r AS RELATIONSHIP\")\n",
    "print(res.result_set)\n",
    "for row in res.result_set:\n",
    "    print(row[0])"
   ]
  },
  {
   "cell_type": "code",
   "execution_count": null,
   "id": "2cfcf3ad",
   "metadata": {},
   "outputs": [],
   "source": [
    "my_query.create_node(\"book\", {\"x\": 1})"
   ]
  },
  {
   "cell_type": "code",
   "execution_count": null,
   "id": "3d9f6c63",
   "metadata": {},
   "outputs": [],
   "source": [
    "my_query.update_node(\"Book\", {'isbn': '0', 'b_title': \"NOTHING\"}, {\"isbn\": '2000'})"
   ]
  },
  {
   "cell_type": "code",
   "execution_count": null,
   "id": "ef301f08",
   "metadata": {},
   "outputs": [],
   "source": [
    "def load_json(path):\n",
    "    with open(path, \"r\") as f:\n",
    "        return json.load(f)\n",
    "\n",
    "ontology = load_json(\"kg.json\")\n",
    "queries = []\n",
    "for class_, data in ontology.items():\n",
    "    if isinstance(data, dict):\n",
    "        for obj, props in data.items():\n",
    "            props = \", \".join([f\"{k}: '{v}'\" for k, v in props.items()])\n",
    "            queries.append(f\"CREATE (:{obj} {{{props}}});\")\n",
    "\n",
    "for query in queries:\n",
    "    print(query)"
   ]
  },
  {
   "cell_type": "code",
   "execution_count": null,
   "id": "d7ef291f",
   "metadata": {},
   "outputs": [],
   "source": [
    "for :\n",
    "    rel_type = edge[\"type\"]\n",
    "    src = edge[\"from\"]\n",
    "    dst = edge[\"to\"]\n",
    "\n",
    "    q = f\"\"\"\n",
    "    MATCH (a {{id: '{src}'}}), (b {{id: '{dst}'}})\n",
    "    CREATE (a)-[:{rel_type}]->(b);\n",
    "    \"\"\"\n",
    "    queries.append(q.strip())\n"
   ]
  }
 ],
 "metadata": {
  "kernelspec": {
   "display_name": "project",
   "language": "python",
   "name": "python3"
  },
  "language_info": {
   "codemirror_mode": {
    "name": "ipython",
    "version": 3
   },
   "file_extension": ".py",
   "mimetype": "text/x-python",
   "name": "python",
   "nbconvert_exporter": "python",
   "pygments_lexer": "ipython3",
   "version": "3.10.11"
  }
 },
 "nbformat": 4,
 "nbformat_minor": 5
}
