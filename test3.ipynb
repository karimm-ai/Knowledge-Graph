{
 "cells": [
  {
   "cell_type": "code",
   "execution_count": 1,
   "id": "a5a1e487",
   "metadata": {},
   "outputs": [],
   "source": [
    "from falkordb import FalkorDB\n",
    "import json\n",
    "from sys_query import QuerySystem\n",
    "import string"
   ]
  },
  {
   "cell_type": "code",
   "execution_count": 2,
   "id": "19689509",
   "metadata": {},
   "outputs": [
    {
     "name": "stdout",
     "output_type": "stream",
     "text": [
      "uni_graph\n"
     ]
    }
   ],
   "source": [
    "myfalkor = QuerySystem(\"127.0.0.1\", 6379, \"uni_graph\")"
   ]
  },
  {
   "cell_type": "code",
   "execution_count": 22,
   "id": "4ef5b563",
   "metadata": {},
   "outputs": [
    {
     "name": "stdout",
     "output_type": "stream",
     "text": [
      "Found 1 Nodes!\n",
      "(:University{founded_year:\"integer\",location:\"string\",name:\"string\",ranking:\"integer\",type:\"string\"})\n",
      "MATCH (n:University)\n",
      "                \n",
      "SET n.uni_president='string' \n",
      "Node Successfully updated!\n"
     ]
    }
   ],
   "source": [
    "myfalkor.update_schema_node(\"University\", {'uni_president': \"string\"})"
   ]
  },
  {
   "cell_type": "code",
   "execution_count": 23,
   "id": "57fcd0e4",
   "metadata": {},
   "outputs": [],
   "source": [
    "myfalkor.add_schema_relationship(\"Course\", \"HAS\", \"Research\")"
   ]
  },
  {
   "cell_type": "code",
   "execution_count": 24,
   "id": "257bebae",
   "metadata": {},
   "outputs": [
    {
     "name": "stdout",
     "output_type": "stream",
     "text": [
      "MATCH (n1:Course)-[r]->(n2:Research)\n",
      "DELETE r\n",
      "CREATE (n1)-[new_r:MAKES]->(n2)\n"
     ]
    }
   ],
   "source": [
    "myfalkor.update_schema_relationship(\"Course\", \"Research\", \"MAKES\")"
   ]
  },
  {
   "cell_type": "code",
   "execution_count": null,
   "id": "5ce48a35",
   "metadata": {},
   "outputs": [],
   "source": [
    "myfalkor.add_node_constraints(\"unique\", \"Student\", \"student_id\")"
   ]
  },
  {
   "cell_type": "code",
   "execution_count": 3,
   "id": "e45a8de0",
   "metadata": {},
   "outputs": [
    {
     "name": "stdout",
     "output_type": "stream",
     "text": [
      "Found 1 Nodes!\n",
      "(:Student{gpa:\"3.8\",name:\"Karim\",student_id:\"1111\"})\n",
      "MATCH (n:Student)\n",
      "                    WHERE n.gpa='3.8' AND n.name='Karim' AND n.student_id='1111' \n",
      "SET n.gpa='2.9' , n.name='Ahmed' \n",
      "Node Successfully updated!\n"
     ]
    }
   ],
   "source": [
    "#(:Student{gpa:\"float\",major:\"string\",name:\"string\",status:\"string\",student_id:\"string\",year:\"integer\"})\n",
    "\n",
    "myfalkor.update_kg_node(\"Student\", {'gpa': 2.9, 'name': 'Ahmed'}, {'gpa': 3.8,  'name': \"Karim\", 'student_id': '1111'}, \"uni_schema\")"
   ]
  },
  {
   "cell_type": "code",
   "execution_count": 4,
   "id": "de8e420d",
   "metadata": {},
   "outputs": [
    {
     "name": "stdout",
     "output_type": "stream",
     "text": [
      "(:Student{gpa:3.85,major:\"Computer Science\",name:\"John Doe\",status:\"Active\",student_id:\"S001\",year:3})\n",
      "(:Student{gpa:3.92,major:\"Computer Science\",name:\"Jane Smith\",status:\"Active\",student_id:\"S002\",year:4})\n",
      "(:Student{gpa:3.67,major:\"Computer Science\",name:\"Mike Johnson\",status:\"Active\",student_id:\"S003\",year:2})\n",
      "(:Student{gpa:3.78,major:\"Mathematics\",name:\"Sarah Wilson\",status:\"Active\",student_id:\"S004\",year:3})\n",
      "(:Student{gpa:3.55,major:\"Computer Science\",name:\"Alex Brown\",status:\"Active\",student_id:\"S005\",year:1})\n",
      "(:Student{gpa:\"2.9\",name:\"Ahmed\",student_id:\"1111\"})\n"
     ]
    }
   ],
   "source": [
    "res = myfalkor.g.query(\"MATCH (n:Student) RETURN (n)\")\n",
    "for element in res.result_set:\n",
    "    print(element[0])\n",
    "    #for key ,value in dict(element[0]).items():\n",
    "     #   print(key, value)"
   ]
  },
  {
   "cell_type": "code",
   "execution_count": 7,
   "id": "06423b9e",
   "metadata": {},
   "outputs": [],
   "source": [
    "def load_json(path):\n",
    "    with open(path, \"r\") as f:\n",
    "        return json.load(f)\n",
    "    \n",
    "ontology = load_json(\"kg.json\")"
   ]
  },
  {
   "cell_type": "code",
   "execution_count": null,
   "id": "3691776b",
   "metadata": {},
   "outputs": [],
   "source": [
    "for key, value in ontology[\"universities_data\"].items():\n",
    "    print(key, value[\"location\"])"
   ]
  },
  {
   "cell_type": "code",
   "execution_count": 8,
   "id": "3c07e490",
   "metadata": {},
   "outputs": [],
   "source": [
    "# Create universities\n",
    "for uni, value in ontology[\"universities_data\"].items():\n",
    "    query = f\"\"\"\n",
    "    CREATE (u:University {{\n",
    "        name: '{value[\"name\"]}',\n",
    "        location: '{value[\"location\"]}',\n",
    "        founded_year: {value[\"founded_year\"]},\n",
    "        type: '{value[\"type\"]}',\n",
    "        ranking: {value[\"ranking\"]}\n",
    "    }})\n",
    "    \"\"\"\n",
    "    myfalkor.g.query(query)\n",
    "\n",
    "# Create departments\n",
    "for dept, value in ontology[\"departments_data\"].items():\n",
    "    query = f\"\"\"\n",
    "    MATCH (u:University {{name: '{value[\"university\"]}'}})\n",
    "    CREATE (d:Department {{\n",
    "        dept_name: '{value[\"name\"]}',\n",
    "        budget: {value[\"budget\"]},\n",
    "        head: '{value[\"head\"]}',\n",
    "        student_count: {value[\"student_count\"]},\n",
    "        building: '{value[\"name\"]} Building'\n",
    "    }})\n",
    "    CREATE (d)-[:PART_OF]->(u)\n",
    "    \"\"\"\n",
    "    myfalkor.g.query(query)\n",
    "\n",
    "# Create professors\n",
    "for prof, val in ontology[\"professors_data\"].items():\n",
    "    query = f\"\"\"\n",
    "    MATCH (d:Department {{dept_name: '{val[\"department\"]}'}})-[:PART_OF]->(u:University {{name: '{val[\"university\"]}'}})\n",
    "    CREATE (p:Professor {{\n",
    "        name: '{val[\"name\"]}',\n",
    "        title: '{val[\"title\"]}',\n",
    "        research_area: '{val[\"research_area\"]}',\n",
    "        tenure: '{val[\"tenure\"]}',\n",
    "        email: '{val[\"email\"]}',\n",
    "        office: '{val[\"office\"]}'\n",
    "    }})\n",
    "    CREATE (p)-[:WORKS_IN]->(d)\n",
    "    \"\"\"\n",
    "    myfalkor.g.query(query)\n",
    "\n",
    "# Create students\n",
    "for student, val in ontology[\"students_data\"].items():\n",
    "    query = f\"\"\"\n",
    "    MATCH (d:Department {{dept_name: '{val[\"major\"]}'}})-[:PART_OF]->(u:University {{name: '{val[\"university\"]}'}})\n",
    "    CREATE (s:Student {{\n",
    "        name: '{val[\"name\"]}',\n",
    "        student_id: '{val[\"student_id\"]}',\n",
    "        major: '{val[\"major\"]}',\n",
    "        gpa: {val[\"gpa\"]},\n",
    "        year: {val[\"year\"]},\n",
    "        status: '{val[\"status\"]}'\n",
    "    }})\n",
    "    CREATE (s)-[:BELONGS_TO]->(d)\n",
    "    \"\"\"\n",
    "    myfalkor.g.query(query)\n",
    "\n",
    "# Create courses\n",
    "for course, val in ontology[\"courses_data\"].items():\n",
    "    dept_name = \"Computer Science\" if val[\"code\"].startswith(('CS', '6.')) else \"Mathematics\"\n",
    "    query = f\"\"\"\n",
    "    MATCH (d:Department {{dept_name: '{dept_name}'}})-[:PART_OF]->(u:University {{name: '{val[\"university\"]}'}})\n",
    "    CREATE (c:Course {{\n",
    "        code: '{val[\"code\"]}',\n",
    "        name: '{val[\"name\"]}',\n",
    "        credits: {val[\"credits\"]},\n",
    "        level: '{val[\"level\"]}',\n",
    "        semester: '{val[\"semester\"]}',\n",
    "        capacity: {val[\"capacity\"]}\n",
    "    }})\n",
    "    CREATE (c)-[:OFFERED_BY]->(d)\n",
    "    \"\"\"\n",
    "    myfalkor.g.query(query)\n",
    "\n",
    "# Create buildings\n",
    "for building, val in ontology[\"buildings_data\"].items():\n",
    "    query = f\"\"\"\n",
    "    MATCH (u:University {{name: '{val[\"university\"]}'}})\n",
    "    CREATE (b:Building {{\n",
    "        name: '{val[\"name\"]}',\n",
    "        address: '{val[\"address\"]}',\n",
    "        floors: {val[\"floors\"]},\n",
    "        capacity: {val[\"capacity\"]},\n",
    "        type: '{val[\"type\"]}'\n",
    "    }})\n",
    "    CREATE (b)-[:LOCATED_AT]->(u)\n",
    "    \"\"\"\n",
    "    myfalkor.g.query(query)\n",
    "\n",
    "\n",
    "\n",
    "# Create teaching relationships\n",
    "teaching_relationships = {\n",
    "(\"Dr. Alice Johnson\", \"CS229\"),\n",
    "(\"Dr. Bob Smith\", \"CS231N\"),\n",
    "(\"Dr. Carol Davis\", \"CS106A\"),\n",
    "(\"Dr. David Wilson\", \"6.034\"),\n",
    "(\"Dr. Eva Martinez\", \"18.06\")\n",
    "}\n",
    "\n",
    "for prof_name, course_code in teaching_relationships:\n",
    "    query = f\"\"\"\n",
    "    MATCH (p:Professor {{name: '{prof_name}'}}),\n",
    "            (c:Course {{code: '{course_code}'}})\n",
    "    CREATE (p)-[:TEACHES]->(c)\n",
    "    \"\"\"\n",
    "    myfalkor.g.query(query)\n",
    "\n",
    "# Create enrollment relationships\n",
    "enrollments = [\n",
    "    (\"John Doe\", \"CS106A\"),\n",
    "    (\"John Doe\", \"CS229\"),\n",
    "    (\"Jane Smith\", \"CS229\"),\n",
    "    (\"Jane Smith\", \"CS231N\"),\n",
    "    (\"Mike Johnson\", \"6.034\"),\n",
    "    (\"Sarah Wilson\", \"18.06\"),\n",
    "    (\"Alex Brown\", \"CS106A\")\n",
    "]\n",
    "\n",
    "for student_name, course_code in enrollments:\n",
    "    query = f\"\"\"\n",
    "    MATCH (s:Student {{name: '{student_name}'}}),\n",
    "            (c:Course {{code: '{course_code}'}})\n",
    "    CREATE (s)-[:ENROLLED_IN]->(c)\n",
    "    \"\"\"\n",
    "    myfalkor.g.query(query)\n",
    "\n",
    "# Link courses to buildings\n",
    "course_building_links = [\n",
    "    (\"CS106A\", \"Gates Computer Science Building\"),\n",
    "    (\"CS229\", \"Gates Computer Science Building\"),\n",
    "    (\"CS231N\", \"Gates Computer Science Building\"),\n",
    "    (\"6.034\", \"Stata Center\"),\n",
    "    (\"18.06\", \"Stata Center\")\n",
    "]\n",
    "\n",
    "for course_code, building_name in course_building_links:\n",
    "            query = f\"\"\"\n",
    "            MATCH (c:Course {{code: '{course_code}'}}),\n",
    "                  (b:Building {{name: '{building_name}'}})\n",
    "            CREATE (c)-[:HELD_IN]->(b)\n",
    "            \"\"\"\n",
    "            myfalkor.g.query(query)"
   ]
  },
  {
   "cell_type": "code",
   "execution_count": 9,
   "id": "8158edcc",
   "metadata": {},
   "outputs": [
    {
     "data": {
      "text/plain": [
       "['uni_schema', 'uni_graph']"
      ]
     },
     "execution_count": 9,
     "metadata": {},
     "output_type": "execute_result"
    }
   ],
   "source": [
    "myfalkor.db.list_graphs()"
   ]
  },
  {
   "cell_type": "code",
   "execution_count": 10,
   "id": "f1216d53",
   "metadata": {},
   "outputs": [
    {
     "name": "stdout",
     "output_type": "stream",
     "text": [
      "{'name': 'John Doe', 'student_id': 'S001', 'major': 'Computer Science', 'gpa': 3.85, 'year': 3, 'status': 'Active'}\n",
      "{'name': 'Jane Smith', 'student_id': 'S002', 'major': 'Computer Science', 'gpa': 3.92, 'year': 4, 'status': 'Active'}\n",
      "{'name': 'Mike Johnson', 'student_id': 'S003', 'major': 'Computer Science', 'gpa': 3.67, 'year': 2, 'status': 'Active'}\n",
      "{'name': 'Sarah Wilson', 'student_id': 'S004', 'major': 'Mathematics', 'gpa': 3.78, 'year': 3, 'status': 'Active'}\n",
      "{'name': 'Alex Brown', 'student_id': 'S005', 'major': 'Computer Science', 'gpa': 3.55, 'year': 1, 'status': 'Active'}\n"
     ]
    }
   ],
   "source": [
    "res = myfalkor.g.query(\"MATCH (n:Student) RETURN properties(n)\")\n",
    "for element in res.result_set:\n",
    "    print(dict(element[0]))\n",
    "    #for key ,value in dict(element[0]).items():\n",
    "     #   print(key, value)"
   ]
  },
  {
   "cell_type": "code",
   "execution_count": 4,
   "id": "7919357c",
   "metadata": {},
   "outputs": [
    {
     "name": "stdout",
     "output_type": "stream",
     "text": [
      "No Nodes Found!\n",
      "Successfully added 1.0 node(s) to the schema\n",
      "No Nodes Found!\n",
      "Successfully added 1.0 node(s) to the schema\n",
      "No Nodes Found!\n",
      "Successfully added 1.0 node(s) to the schema\n",
      "No Nodes Found!\n",
      "Successfully added 1.0 node(s) to the schema\n",
      "No Nodes Found!\n",
      "Successfully added 1.0 node(s) to the schema\n",
      "No Nodes Found!\n",
      "Successfully added 1.0 node(s) to the schema\n",
      "No Nodes Found!\n",
      "Successfully added 1.0 node(s) to the schema\n",
      "No Nodes Found!\n",
      "Successfully added 1.0 node(s) to the schema\n",
      "No Nodes Found!\n",
      "Successfully added 1.0 node(s) to the schema\n",
      "No Nodes Found!\n",
      "Successfully added 1.0 node(s) to the schema\n"
     ]
    }
   ],
   "source": [
    "myfalkor.create_schema(\"schema.json\")"
   ]
  },
  {
   "cell_type": "code",
   "execution_count": 3,
   "id": "13f64b24",
   "metadata": {},
   "outputs": [
    {
     "data": {
      "text/plain": [
       "True"
      ]
     },
     "execution_count": 3,
     "metadata": {},
     "output_type": "execute_result"
    }
   ],
   "source": [
    "myfalkor.db.flushdb()"
   ]
  },
  {
   "cell_type": "code",
   "execution_count": 26,
   "id": "5097f0d2",
   "metadata": {},
   "outputs": [
    {
     "name": "stdout",
     "output_type": "stream",
     "text": [
      "name: 'string', age: 'integer'\n",
      "CREATE (n:BusinessMan \n",
      "         {name: 'string', age: 'integer'})\n",
      "1.0\n"
     ]
    }
   ],
   "source": [
    "myfalkor.add_schema_node(\"BusinessMan\", {'name': 'string', 'age': 'integer'})"
   ]
  },
  {
   "cell_type": "code",
   "execution_count": 28,
   "id": "5f373b5e",
   "metadata": {},
   "outputs": [],
   "source": [
    "myfalkor.add_schema_relationship(\"BusinessMan\", \"OWN\", \"University\")"
   ]
  },
  {
   "cell_type": "code",
   "execution_count": 6,
   "id": "ffc9b7e2",
   "metadata": {},
   "outputs": [
    {
     "name": "stdout",
     "output_type": "stream",
     "text": [
      "(:University{founded_year:\"integer\",location:\"string\",name:\"string\",ranking:\"integer\",type:\"string\"})\n",
      "(:Department{budget:\"float\",building:\"string\",dept_name:\"string\",head:\"string\",student_count:\"integer\"})\n",
      "(:Professor{email:\"string\",name:\"string\",office:\"string\",research_area:\"string\",tenure:\"boolean\",title:\"string\"})\n",
      "(:Student{gpa:\"float\",major:\"string\",name:\"string\",status:\"string\",student_id:\"string\",year:\"integer\"})\n",
      "(:Course{capacity:\"integer\",code:\"string\",credits:\"integer\",level:\"string\",name:\"string\",semester:\"string\"})\n",
      "(:Building{address:\"string\",capacity:\"integer\",floors:\"integer\",name:\"string\",type:\"string\"})\n",
      "(:Research{duration:\"integer\",field:\"string\",funding:\"float\",status:\"string\",title:\"string\"})\n",
      "(:Publication{citations:\"integer\",journal:\"string\",title:\"string\",type:\"string\",year:\"integer\"})\n",
      "(:Degree{duration:\"integer\",level:\"string\",name:\"string\",requirements:\"string\"})\n",
      "(:Semester{end_date:\"string\",name:\"string\",start_date:\"string\",year:\"integer\"})\n"
     ]
    }
   ],
   "source": [
    "res = myfalkor.g.query(\"MATCH (n) RETURN (n) AS nodes\")\n",
    "for element in res.result_set:\n",
    "    print(element[0])"
   ]
  },
  {
   "cell_type": "code",
   "execution_count": 6,
   "id": "5b4525ec",
   "metadata": {},
   "outputs": [
    {
     "name": "stdout",
     "output_type": "stream",
     "text": [
      "['MANDATORY', 'Student', ['name'], 'NODE', 'OPERATIONAL']\n",
      "['UNIQUE', 'Student', ['student_id'], 'NODE', 'OPERATIONAL']\n"
     ]
    }
   ],
   "source": [
    "res = myfalkor.g.ro_query(\"call db.constraints()\")\n",
    "\n",
    "for row in res.result_set:\n",
    "    print(row)\n"
   ]
  },
  {
   "cell_type": "code",
   "execution_count": null,
   "id": "518c0607",
   "metadata": {},
   "outputs": [],
   "source": [
    "myfalkor.g.query(\"CREATE INDEX FOR (b:BusinessMan) ON (b.id)\")"
   ]
  },
  {
   "cell_type": "code",
   "execution_count": 5,
   "id": "a76fe295",
   "metadata": {},
   "outputs": [
    {
     "name": "stdout",
     "output_type": "stream",
     "text": [
      "Found 1 Nodes!\n",
      "(:Student{gpa:\"float\",major:\"string\",name:\"string\",status:\"string\",student_id:\"string\",year:\"integer\"})\n"
     ]
    }
   ],
   "source": [
    "myfalkor.add_node_constraints(\"mandatory\", \"Student\", \"name\")"
   ]
  },
  {
   "cell_type": "code",
   "execution_count": 30,
   "id": "572f8691",
   "metadata": {},
   "outputs": [
    {
     "name": "stdout",
     "output_type": "stream",
     "text": [
      "MATCH (n1:BusinessMan)-[r]->(n2:University)\n",
      "DELETE r\n",
      "CREATE (n1)-[new_r:CONTROL]->(n2)\n",
      "SET new_r.date= 'date'\n"
     ]
    }
   ],
   "source": [
    "myfalkor.update_schema_relationship(node1='BusinessMan', node2='University', new_rel='CONTROL', new_rel_attr={'date': 'date'})"
   ]
  },
  {
   "cell_type": "code",
   "execution_count": 31,
   "id": "4ca1bad0",
   "metadata": {},
   "outputs": [
    {
     "name": "stdout",
     "output_type": "stream",
     "text": [
      "[['Department', 'University', 'PART_OF'], ['Professor', 'Department', 'WORKS_IN'], ['Professor', 'Course', 'TEACHES'], ['Professor', 'Research', 'CONDUCTS'], ['Professor', 'Publication', 'AUTHORED'], ['Student', 'Department', 'BELONGS_TO'], ['Student', 'Course', 'ENROLLED_IN'], ['Student', 'Degree', 'PURSUING'], ['Course', 'Department', 'OFFERED_BY'], ['Course', 'Building', 'HELD_IN'], ['Course', 'Semester', 'OFFERED_IN'], ['Building', 'University', 'LOCATED_AT'], ['Research', 'University', 'FUNDED_BY'], ['BusinessMan', 'University', 'CONTROL']]\n",
      "Department -- [PART_OF] --> University\n",
      "Professor -- [WORKS_IN] --> Department\n",
      "Professor -- [TEACHES] --> Course\n",
      "Professor -- [CONDUCTS] --> Research\n",
      "Professor -- [AUTHORED] --> Publication\n",
      "Student -- [BELONGS_TO] --> Department\n",
      "Student -- [ENROLLED_IN] --> Course\n",
      "Student -- [PURSUING] --> Degree\n",
      "Course -- [OFFERED_BY] --> Department\n",
      "Course -- [HELD_IN] --> Building\n",
      "Course -- [OFFERED_IN] --> Semester\n",
      "Building -- [LOCATED_AT] --> University\n",
      "Research -- [FUNDED_BY] --> University\n",
      "BusinessMan -- [CONTROL] --> University\n"
     ]
    }
   ],
   "source": [
    "res =myfalkor.g.query(\"MATCH (n)-[r]->(m) RETURN labels(n)[0] AS NODES, labels(m)[0] AS NODES2, type(r) AS RELATIONSHIP\")\n",
    "print(res.result_set)\n",
    "for row in res.result_set:\n",
    "    print(f\"{row[0]} -- [{row[2]}] --> {row[1]}\")"
   ]
  },
  {
   "cell_type": "code",
   "execution_count": 6,
   "id": "9e2bc0a0",
   "metadata": {},
   "outputs": [
    {
     "name": "stdout",
     "output_type": "stream",
     "text": [
      "MATCH (n:Exams)\n",
      "WHERE n.id='string' AND n.date='date' \n",
      "RETURN n\n",
      "No Nodes Found!\n",
      "id: 'string', date: 'date'\n",
      "CREATE (n:Exams \n",
      "         {id: 'string', date: 'date'})\n",
      "1.0\n"
     ]
    }
   ],
   "source": [
    "myfalkor.find_node(\"Exams\", {'id': \"string\", 'date': 'date'}, make_exist=True, check_schema='uni_schema')"
   ]
  },
  {
   "cell_type": "code",
   "execution_count": 14,
   "metadata": {},
   "outputs": [],
   "source": [
    "res = myfalkor.g.query(\"MATCH (n:Student) WHERE n.id='114' RETURN (n)\")\n",
    "for element in res.result_set:\n",
    "    print(element[0])"
   ]
  },
  {
   "cell_type": "code",
   "execution_count": null,
   "id": "743e7e16",
   "metadata": {},
   "outputs": [],
   "source": []
  },
  {
   "cell_type": "code",
   "execution_count": null,
   "id": "ea10d035",
   "metadata": {},
   "outputs": [],
   "source": []
  }
 ],
 "metadata": {
  "kernelspec": {
   "display_name": "project",
   "language": "python",
   "name": "python3"
  },
  "language_info": {
   "codemirror_mode": {
    "name": "ipython",
    "version": 3
   },
   "file_extension": ".py",
   "mimetype": "text/x-python",
   "name": "python",
   "nbconvert_exporter": "python",
   "pygments_lexer": "ipython3",
   "version": "3.10.11"
  }
 },
 "nbformat": 4,
 "nbformat_minor": 5
}
